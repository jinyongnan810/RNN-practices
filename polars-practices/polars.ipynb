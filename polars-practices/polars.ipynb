{
 "cells": [
  {
   "cell_type": "markdown",
   "id": "18c654ea",
   "metadata": {},
   "source": [
    "# Polars\n",
    "https://docs.pola.rs/user-guide/getting-started/"
   ]
  },
  {
   "cell_type": "code",
   "execution_count": 251,
   "id": "cf9a1321",
   "metadata": {},
   "outputs": [],
   "source": [
    "import polars as pl\n",
    "import pandas as pd\n",
    "import numpy as np\n",
    "import datetime as dt"
   ]
  },
  {
   "cell_type": "markdown",
   "id": "6b530fe7",
   "metadata": {},
   "source": [
    "## Basics"
   ]
  },
  {
   "cell_type": "code",
   "execution_count": 252,
   "id": "887d588a",
   "metadata": {},
   "outputs": [
    {
     "data": {
      "text/html": [
       "<div><style>\n",
       ".dataframe > thead > tr,\n",
       ".dataframe > tbody > tr {\n",
       "  text-align: right;\n",
       "  white-space: pre-wrap;\n",
       "}\n",
       "</style>\n",
       "<small>shape: (4, 4)</small><table border=\"1\" class=\"dataframe\"><thead><tr><th>name</th><th>birthdate</th><th>weight</th><th>height</th></tr><tr><td>str</td><td>date</td><td>f64</td><td>f64</td></tr></thead><tbody><tr><td>&quot;Alice Archer&quot;</td><td>1997-01-10</td><td>57.9</td><td>1.56</td></tr><tr><td>&quot;Ben Brown&quot;</td><td>1985-02-15</td><td>72.5</td><td>1.77</td></tr><tr><td>&quot;Chloe Cooper&quot;</td><td>1983-03-22</td><td>53.6</td><td>1.65</td></tr><tr><td>&quot;Daniel Donovan&quot;</td><td>1981-04-30</td><td>83.1</td><td>1.75</td></tr></tbody></table></div>"
      ],
      "text/plain": [
       "shape: (4, 4)\n",
       "┌────────────────┬────────────┬────────┬────────┐\n",
       "│ name           ┆ birthdate  ┆ weight ┆ height │\n",
       "│ ---            ┆ ---        ┆ ---    ┆ ---    │\n",
       "│ str            ┆ date       ┆ f64    ┆ f64    │\n",
       "╞════════════════╪════════════╪════════╪════════╡\n",
       "│ Alice Archer   ┆ 1997-01-10 ┆ 57.9   ┆ 1.56   │\n",
       "│ Ben Brown      ┆ 1985-02-15 ┆ 72.5   ┆ 1.77   │\n",
       "│ Chloe Cooper   ┆ 1983-03-22 ┆ 53.6   ┆ 1.65   │\n",
       "│ Daniel Donovan ┆ 1981-04-30 ┆ 83.1   ┆ 1.75   │\n",
       "└────────────────┴────────────┴────────┴────────┘"
      ]
     },
     "execution_count": 252,
     "metadata": {},
     "output_type": "execute_result"
    }
   ],
   "source": [
    "df = pl.DataFrame(\n",
    "    {\n",
    "        \"name\": [\"Alice Archer\", \"Ben Brown\", \"Chloe Cooper\", \"Daniel Donovan\"],\n",
    "        \"birthdate\": [\n",
    "            dt.date(1997, 1, 10),\n",
    "            dt.date(1985, 2, 15),\n",
    "            dt.date(1983, 3, 22),\n",
    "            dt.date(1981, 4, 30),\n",
    "        ],\n",
    "        \"weight\": [57.9, 72.5, 53.6, 83.1],  # (kg)\n",
    "        \"height\": [1.56, 1.77, 1.65, 1.75],  # (m)\n",
    "    }\n",
    ")\n",
    "# IO: https://docs.pola.rs/user-guide/io/\n",
    "df.write_csv(\"people.csv\")\n",
    "df = pl.read_csv(\"people.csv\")\n",
    "df.write_parquet(\"people.parquet\")\n",
    "df = pl.read_parquet(\"people.parquet\")\n",
    "df = df.to_pandas()\n",
    "df = pl.from_pandas(df)\n",
    "# convert date to datetime\n",
    "df = df.with_columns(pl.col(\"birthdate\").cast(pl.Date, strict=False))\n",
    "# add and drop columns\n",
    "df = df.with_columns(\n",
    "    [\n",
    "        (pl.col(\"weight\") / (pl.col(\"height\") ** 2)).alias(\"BMI\"),\n",
    "        pl.col(\"birthdate\").dt.year().alias(\"birth_year\"),\n",
    "    ]\n",
    ")\n",
    "df = df.drop(\"birth_year\", \"BMI\")\n",
    "\n",
    "df"
   ]
  },
  {
   "cell_type": "code",
   "execution_count": 253,
   "id": "53559c67",
   "metadata": {},
   "outputs": [
    {
     "data": {
      "text/html": [
       "<div><style>\n",
       ".dataframe > thead > tr,\n",
       ".dataframe > tbody > tr {\n",
       "  text-align: right;\n",
       "  white-space: pre-wrap;\n",
       "}\n",
       "</style>\n",
       "<small>shape: (4, 5)</small><table border=\"1\" class=\"dataframe\"><thead><tr><th>name</th><th>birth_year</th><th>bmi</th><th>weight-5%</th><th>height-5%</th></tr><tr><td>str</td><td>i32</td><td>f64</td><td>f64</td><td>f64</td></tr></thead><tbody><tr><td>&quot;Alice Archer&quot;</td><td>1997</td><td>23.791913</td><td>55.01</td><td>1.48</td></tr><tr><td>&quot;Ben Brown&quot;</td><td>1985</td><td>23.141498</td><td>68.88</td><td>1.68</td></tr><tr><td>&quot;Chloe Cooper&quot;</td><td>1983</td><td>19.687787</td><td>50.92</td><td>1.57</td></tr><tr><td>&quot;Daniel Donovan&quot;</td><td>1981</td><td>27.134694</td><td>78.94</td><td>1.66</td></tr></tbody></table></div>"
      ],
      "text/plain": [
       "shape: (4, 5)\n",
       "┌────────────────┬────────────┬───────────┬───────────┬───────────┐\n",
       "│ name           ┆ birth_year ┆ bmi       ┆ weight-5% ┆ height-5% │\n",
       "│ ---            ┆ ---        ┆ ---       ┆ ---       ┆ ---       │\n",
       "│ str            ┆ i32        ┆ f64       ┆ f64       ┆ f64       │\n",
       "╞════════════════╪════════════╪═══════════╪═══════════╪═══════════╡\n",
       "│ Alice Archer   ┆ 1997       ┆ 23.791913 ┆ 55.01     ┆ 1.48      │\n",
       "│ Ben Brown      ┆ 1985       ┆ 23.141498 ┆ 68.88     ┆ 1.68      │\n",
       "│ Chloe Cooper   ┆ 1983       ┆ 19.687787 ┆ 50.92     ┆ 1.57      │\n",
       "│ Daniel Donovan ┆ 1981       ┆ 27.134694 ┆ 78.94     ┆ 1.66      │\n",
       "└────────────────┴────────────┴───────────┴───────────┴───────────┘"
      ]
     },
     "execution_count": 253,
     "metadata": {},
     "output_type": "execute_result"
    }
   ],
   "source": [
    "# Select columns and calculate new columns\n",
    "result = df.select(\n",
    "    pl.col(\"name\"),\n",
    "    pl.col(\"birthdate\").dt.year().alias(\"birth_year\"),\n",
    "    (pl.col(\"weight\") / (pl.col(\"height\") ** 2)).alias(\"bmi\"),\n",
    "    (pl.col(\"weight\", \"height\") * 0.95).round(2).name.suffix(\"-5%\"),\n",
    "    )\n",
    "result"
   ]
  },
  {
   "cell_type": "code",
   "execution_count": 254,
   "id": "8b867893",
   "metadata": {},
   "outputs": [
    {
     "data": {
      "text/html": [
       "<div><style>\n",
       ".dataframe > thead > tr,\n",
       ".dataframe > tbody > tr {\n",
       "  text-align: right;\n",
       "  white-space: pre-wrap;\n",
       "}\n",
       "</style>\n",
       "<small>shape: (4, 8)</small><table border=\"1\" class=\"dataframe\"><thead><tr><th>name</th><th>birthdate</th><th>weight</th><th>height</th><th>birth_year</th><th>bmi</th><th>weight-5%</th><th>height-5%</th></tr><tr><td>str</td><td>date</td><td>f64</td><td>f64</td><td>i32</td><td>f64</td><td>f64</td><td>f64</td></tr></thead><tbody><tr><td>&quot;Alice Archer&quot;</td><td>1997-01-10</td><td>57.9</td><td>1.56</td><td>1997</td><td>23.791913</td><td>55.01</td><td>1.48</td></tr><tr><td>&quot;Ben Brown&quot;</td><td>1985-02-15</td><td>72.5</td><td>1.77</td><td>1985</td><td>23.141498</td><td>68.88</td><td>1.68</td></tr><tr><td>&quot;Chloe Cooper&quot;</td><td>1983-03-22</td><td>53.6</td><td>1.65</td><td>1983</td><td>19.687787</td><td>50.92</td><td>1.57</td></tr><tr><td>&quot;Daniel Donovan&quot;</td><td>1981-04-30</td><td>83.1</td><td>1.75</td><td>1981</td><td>27.134694</td><td>78.94</td><td>1.66</td></tr></tbody></table></div>"
      ],
      "text/plain": [
       "shape: (4, 8)\n",
       "┌────────────────┬────────────┬────────┬────────┬────────────┬───────────┬───────────┬───────────┐\n",
       "│ name           ┆ birthdate  ┆ weight ┆ height ┆ birth_year ┆ bmi       ┆ weight-5% ┆ height-5% │\n",
       "│ ---            ┆ ---        ┆ ---    ┆ ---    ┆ ---        ┆ ---       ┆ ---       ┆ ---       │\n",
       "│ str            ┆ date       ┆ f64    ┆ f64    ┆ i32        ┆ f64       ┆ f64       ┆ f64       │\n",
       "╞════════════════╪════════════╪════════╪════════╪════════════╪═══════════╪═══════════╪═══════════╡\n",
       "│ Alice Archer   ┆ 1997-01-10 ┆ 57.9   ┆ 1.56   ┆ 1997       ┆ 23.791913 ┆ 55.01     ┆ 1.48      │\n",
       "│ Ben Brown      ┆ 1985-02-15 ┆ 72.5   ┆ 1.77   ┆ 1985       ┆ 23.141498 ┆ 68.88     ┆ 1.68      │\n",
       "│ Chloe Cooper   ┆ 1983-03-22 ┆ 53.6   ┆ 1.65   ┆ 1983       ┆ 19.687787 ┆ 50.92     ┆ 1.57      │\n",
       "│ Daniel Donovan ┆ 1981-04-30 ┆ 83.1   ┆ 1.75   ┆ 1981       ┆ 27.134694 ┆ 78.94     ┆ 1.66      │\n",
       "└────────────────┴────────────┴────────┴────────┴────────────┴───────────┴───────────┴───────────┘"
      ]
     },
     "execution_count": 254,
     "metadata": {},
     "output_type": "execute_result"
    }
   ],
   "source": [
    "# Add new columns to the DataFrame\n",
    "result = df.with_columns(\n",
    "    pl.col(\"birthdate\").dt.year().alias(\"birth_year\"),\n",
    "    (pl.col(\"weight\") / (pl.col(\"height\") ** 2)).alias(\"bmi\"),\n",
    "    (pl.col(\"weight\", \"height\") * 0.95).round(2).name.suffix(\"-5%\"),\n",
    ")\n",
    "result"
   ]
  },
  {
   "cell_type": "code",
   "execution_count": 255,
   "id": "e78fdc81",
   "metadata": {},
   "outputs": [
    {
     "data": {
      "text/html": [
       "<div><style>\n",
       ".dataframe > thead > tr,\n",
       ".dataframe > tbody > tr {\n",
       "  text-align: right;\n",
       "  white-space: pre-wrap;\n",
       "}\n",
       "</style>\n",
       "<small>shape: (2, 4)</small><table border=\"1\" class=\"dataframe\"><thead><tr><th>name</th><th>birthdate</th><th>weight</th><th>height</th></tr><tr><td>str</td><td>date</td><td>f64</td><td>f64</td></tr></thead><tbody><tr><td>&quot;Ben Brown&quot;</td><td>1985-02-15</td><td>72.5</td><td>1.77</td></tr><tr><td>&quot;Daniel Donovan&quot;</td><td>1981-04-30</td><td>83.1</td><td>1.75</td></tr></tbody></table></div>"
      ],
      "text/plain": [
       "shape: (2, 4)\n",
       "┌────────────────┬────────────┬────────┬────────┐\n",
       "│ name           ┆ birthdate  ┆ weight ┆ height │\n",
       "│ ---            ┆ ---        ┆ ---    ┆ ---    │\n",
       "│ str            ┆ date       ┆ f64    ┆ f64    │\n",
       "╞════════════════╪════════════╪════════╪════════╡\n",
       "│ Ben Brown      ┆ 1985-02-15 ┆ 72.5   ┆ 1.77   │\n",
       "│ Daniel Donovan ┆ 1981-04-30 ┆ 83.1   ┆ 1.75   │\n",
       "└────────────────┴────────────┴────────┴────────┘"
      ]
     },
     "execution_count": 255,
     "metadata": {},
     "output_type": "execute_result"
    }
   ],
   "source": [
    "# Filter rows based on conditions\n",
    "# result = df.filter(\n",
    "#     (pl.col(\"weight\") > 70) & (pl.col(\"height\") > 1.7)\n",
    "# )\n",
    "result = df.filter(\n",
    "    pl.col(\"weight\") > 70,\n",
    "    pl.col(\"height\") > 1.7,\n",
    ")\n",
    "result"
   ]
  },
  {
   "cell_type": "code",
   "execution_count": 256,
   "id": "af21a027",
   "metadata": {},
   "outputs": [
    {
     "name": "stdout",
     "output_type": "stream",
     "text": [
      "shape: (2, 4)\n",
      "┌────────┬─────────────┬────────────┬─────────┐\n",
      "│ decade ┆ sample_size ┆ avg_weight ┆ tallest │\n",
      "│ ---    ┆ ---         ┆ ---        ┆ ---     │\n",
      "│ i32    ┆ u32         ┆ f64        ┆ f64     │\n",
      "╞════════╪═════════════╪════════════╪═════════╡\n",
      "│ 1990   ┆ 1           ┆ 57.9       ┆ 1.56    │\n",
      "│ 1980   ┆ 3           ┆ 69.73      ┆ 1.77    │\n",
      "└────────┴─────────────┴────────────┴─────────┘\n"
     ]
    }
   ],
   "source": [
    "# Group by and aggregate data\n",
    "result = df.group_by(\n",
    "    (pl.col(\"birthdate\").dt.year() // 10 * 10).alias(\"decade\"),\n",
    "    maintain_order=True,\n",
    ").agg(\n",
    "    pl.len().alias(\"sample_size\"),\n",
    "    pl.col(\"weight\").mean().round(2).alias(\"avg_weight\"),\n",
    "    pl.col(\"height\").max().alias(\"tallest\"),\n",
    ")\n",
    "print(result)"
   ]
  },
  {
   "cell_type": "code",
   "execution_count": 257,
   "id": "660c3293",
   "metadata": {},
   "outputs": [
    {
     "name": "stdout",
     "output_type": "stream",
     "text": [
      "shape: (1, 5)\n",
      "┌──────────────┬────────────┬────────┬────────┬────────┐\n",
      "│ name         ┆ birthdate  ┆ weight ┆ height ┆ decade │\n",
      "│ ---          ┆ ---        ┆ ---    ┆ ---    ┆ ---    │\n",
      "│ str          ┆ date       ┆ f64    ┆ f64    ┆ i32    │\n",
      "╞══════════════╪════════════╪════════╪════════╪════════╡\n",
      "│ Alice Archer ┆ 1997-01-10 ┆ 57.9   ┆ 1.56   ┆ 1990   │\n",
      "└──────────────┴────────────┴────────┴────────┴────────┘\n",
      "shape: (3, 5)\n",
      "┌────────────────┬────────────┬────────┬────────┬────────┐\n",
      "│ name           ┆ birthdate  ┆ weight ┆ height ┆ decade │\n",
      "│ ---            ┆ ---        ┆ ---    ┆ ---    ┆ ---    │\n",
      "│ str            ┆ date       ┆ f64    ┆ f64    ┆ i32    │\n",
      "╞════════════════╪════════════╪════════╪════════╪════════╡\n",
      "│ Ben Brown      ┆ 1985-02-15 ┆ 72.5   ┆ 1.77   ┆ 1980   │\n",
      "│ Chloe Cooper   ┆ 1983-03-22 ┆ 53.6   ┆ 1.65   ┆ 1980   │\n",
      "│ Daniel Donovan ┆ 1981-04-30 ┆ 83.1   ┆ 1.75   ┆ 1980   │\n",
      "└────────────────┴────────────┴────────┴────────┴────────┘\n"
     ]
    },
    {
     "data": {
      "text/html": [
       "<div><style>\n",
       ".dataframe > thead > tr,\n",
       ".dataframe > tbody > tr {\n",
       "  text-align: right;\n",
       "  white-space: pre-wrap;\n",
       "}\n",
       "</style>\n",
       "<small>shape: (4, 2)</small><table border=\"1\" class=\"dataframe\"><thead><tr><th>decade</th><th>bmi_mean</th></tr><tr><td>i32</td><td>f64</td></tr></thead><tbody><tr><td>1990</td><td>23.791913</td></tr><tr><td>1980</td><td>23.321326</td></tr><tr><td>1980</td><td>23.321326</td></tr><tr><td>1980</td><td>23.321326</td></tr></tbody></table></div>"
      ],
      "text/plain": [
       "shape: (4, 2)\n",
       "┌────────┬───────────┐\n",
       "│ decade ┆ bmi_mean  │\n",
       "│ ---    ┆ ---       │\n",
       "│ i32    ┆ f64       │\n",
       "╞════════╪═══════════╡\n",
       "│ 1990   ┆ 23.791913 │\n",
       "│ 1980   ┆ 23.321326 │\n",
       "│ 1980   ┆ 23.321326 │\n",
       "│ 1980   ┆ 23.321326 │\n",
       "└────────┴───────────┘"
      ]
     },
     "execution_count": 257,
     "metadata": {},
     "output_type": "execute_result"
    }
   ],
   "source": [
    "# Group by and apply calculation to each group\n",
    "def some_function(group: pl.DataFrame) -> pl.DataFrame:\n",
    "    print(group)\n",
    "    return pl.DataFrame(\n",
    "        {\n",
    "            \"decade\": group[\"decade\"],\n",
    "            \"bmi_mean\": (group[\"weight\"] / (group[\"height\"] ** 2)).mean(),\n",
    "        }\n",
    "    )\n",
    "result = df.with_columns(\n",
    "    (pl.col(\"birthdate\").dt.year() // 10 * 10).alias(\"decade\"),\n",
    ").group_by(\n",
    "    \"decade\",\n",
    "    maintain_order=True,\n",
    ").map_groups(some_function)\n",
    "result"
   ]
  },
  {
   "cell_type": "code",
   "execution_count": 258,
   "id": "964af0a0",
   "metadata": {},
   "outputs": [
    {
     "data": {
      "text/html": [
       "<div><style>\n",
       ".dataframe > thead > tr,\n",
       ".dataframe > tbody > tr {\n",
       "  text-align: right;\n",
       "  white-space: pre-wrap;\n",
       "}\n",
       "</style>\n",
       "<small>shape: (4, 6)</small><table border=\"1\" class=\"dataframe\"><thead><tr><th>name</th><th>birthdate</th><th>weight</th><th>height</th><th>parent</th><th>siblings</th></tr><tr><td>str</td><td>date</td><td>f64</td><td>f64</td><td>bool</td><td>i64</td></tr></thead><tbody><tr><td>&quot;Alice Archer&quot;</td><td>1997-01-10</td><td>57.9</td><td>1.56</td><td>false</td><td>3</td></tr><tr><td>&quot;Ben Brown&quot;</td><td>1985-02-15</td><td>72.5</td><td>1.77</td><td>true</td><td>1</td></tr><tr><td>&quot;Chloe Cooper&quot;</td><td>1983-03-22</td><td>53.6</td><td>1.65</td><td>false</td><td>4</td></tr><tr><td>&quot;Daniel Donovan&quot;</td><td>1981-04-30</td><td>83.1</td><td>1.75</td><td>false</td><td>2</td></tr></tbody></table></div>"
      ],
      "text/plain": [
       "shape: (4, 6)\n",
       "┌────────────────┬────────────┬────────┬────────┬────────┬──────────┐\n",
       "│ name           ┆ birthdate  ┆ weight ┆ height ┆ parent ┆ siblings │\n",
       "│ ---            ┆ ---        ┆ ---    ┆ ---    ┆ ---    ┆ ---      │\n",
       "│ str            ┆ date       ┆ f64    ┆ f64    ┆ bool   ┆ i64      │\n",
       "╞════════════════╪════════════╪════════╪════════╪════════╪══════════╡\n",
       "│ Alice Archer   ┆ 1997-01-10 ┆ 57.9   ┆ 1.56   ┆ false  ┆ 3        │\n",
       "│ Ben Brown      ┆ 1985-02-15 ┆ 72.5   ┆ 1.77   ┆ true   ┆ 1        │\n",
       "│ Chloe Cooper   ┆ 1983-03-22 ┆ 53.6   ┆ 1.65   ┆ false  ┆ 4        │\n",
       "│ Daniel Donovan ┆ 1981-04-30 ┆ 83.1   ┆ 1.75   ┆ false  ┆ 2        │\n",
       "└────────────────┴────────────┴────────┴────────┴────────┴──────────┘"
      ]
     },
     "execution_count": 258,
     "metadata": {},
     "output_type": "execute_result"
    }
   ],
   "source": [
    "# Combine multiple DataFrames\n",
    "df2 = pl.DataFrame(\n",
    "    {\n",
    "        \"name\": [\"Ben Brown\", \"Daniel Donovan\", \"Alice Archer\", \"Chloe Cooper\"],\n",
    "        \"parent\": [True, False, False, False],\n",
    "        \"siblings\": [1, 2, 3, 4],\n",
    "    }\n",
    ")\n",
    "result = df.join(df2, on=\"name\", how=\"left\")\n",
    "result"
   ]
  },
  {
   "cell_type": "code",
   "execution_count": 259,
   "id": "be8a69e1",
   "metadata": {},
   "outputs": [
    {
     "data": {
      "text/html": [
       "<div><style>\n",
       ".dataframe > thead > tr,\n",
       ".dataframe > tbody > tr {\n",
       "  text-align: right;\n",
       "  white-space: pre-wrap;\n",
       "}\n",
       "</style>\n",
       "<small>shape: (8, 4)</small><table border=\"1\" class=\"dataframe\"><thead><tr><th>name</th><th>birthdate</th><th>weight</th><th>height</th></tr><tr><td>str</td><td>date</td><td>f64</td><td>f64</td></tr></thead><tbody><tr><td>&quot;Alice Archer&quot;</td><td>1997-01-10</td><td>57.9</td><td>1.56</td></tr><tr><td>&quot;Ben Brown&quot;</td><td>1985-02-15</td><td>72.5</td><td>1.77</td></tr><tr><td>&quot;Chloe Cooper&quot;</td><td>1983-03-22</td><td>53.6</td><td>1.65</td></tr><tr><td>&quot;Daniel Donovan&quot;</td><td>1981-04-30</td><td>83.1</td><td>1.75</td></tr><tr><td>&quot;Ethan Edwards&quot;</td><td>1977-05-10</td><td>67.9</td><td>1.76</td></tr><tr><td>&quot;Fiona Foster&quot;</td><td>1975-06-23</td><td>72.5</td><td>1.6</td></tr><tr><td>&quot;Grace Gibson&quot;</td><td>1973-07-22</td><td>57.6</td><td>1.66</td></tr><tr><td>&quot;Henry Harris&quot;</td><td>1971-08-03</td><td>93.1</td><td>1.8</td></tr></tbody></table></div>"
      ],
      "text/plain": [
       "shape: (8, 4)\n",
       "┌────────────────┬────────────┬────────┬────────┐\n",
       "│ name           ┆ birthdate  ┆ weight ┆ height │\n",
       "│ ---            ┆ ---        ┆ ---    ┆ ---    │\n",
       "│ str            ┆ date       ┆ f64    ┆ f64    │\n",
       "╞════════════════╪════════════╪════════╪════════╡\n",
       "│ Alice Archer   ┆ 1997-01-10 ┆ 57.9   ┆ 1.56   │\n",
       "│ Ben Brown      ┆ 1985-02-15 ┆ 72.5   ┆ 1.77   │\n",
       "│ Chloe Cooper   ┆ 1983-03-22 ┆ 53.6   ┆ 1.65   │\n",
       "│ Daniel Donovan ┆ 1981-04-30 ┆ 83.1   ┆ 1.75   │\n",
       "│ Ethan Edwards  ┆ 1977-05-10 ┆ 67.9   ┆ 1.76   │\n",
       "│ Fiona Foster   ┆ 1975-06-23 ┆ 72.5   ┆ 1.6    │\n",
       "│ Grace Gibson   ┆ 1973-07-22 ┆ 57.6   ┆ 1.66   │\n",
       "│ Henry Harris   ┆ 1971-08-03 ┆ 93.1   ┆ 1.8    │\n",
       "└────────────────┴────────────┴────────┴────────┘"
      ]
     },
     "execution_count": 259,
     "metadata": {},
     "output_type": "execute_result"
    }
   ],
   "source": [
    "# Concatenate DataFrames\n",
    "df3 = pl.DataFrame(\n",
    "    {\n",
    "        \"name\": [\"Ethan Edwards\", \"Fiona Foster\", \"Grace Gibson\", \"Henry Harris\"],\n",
    "        \"birthdate\": [\n",
    "            dt.date(1977, 5, 10),\n",
    "            dt.date(1975, 6, 23),\n",
    "            dt.date(1973, 7, 22),\n",
    "            dt.date(1971, 8, 3),\n",
    "        ],\n",
    "        \"weight\": [67.9, 72.5, 57.6, 93.1],  # (kg)\n",
    "        \"height\": [1.76, 1.6, 1.66, 1.8],  # (m)\n",
    "    }\n",
    ")\n",
    "\n",
    "result = pl.concat([df, df3], how=\"vertical\")\n",
    "result"
   ]
  }
 ],
 "metadata": {
  "kernelspec": {
   "display_name": "3.9.10",
   "language": "python",
   "name": "python3"
  },
  "language_info": {
   "codemirror_mode": {
    "name": "ipython",
    "version": 3
   },
   "file_extension": ".py",
   "mimetype": "text/x-python",
   "name": "python",
   "nbconvert_exporter": "python",
   "pygments_lexer": "ipython3",
   "version": "3.9.10"
  }
 },
 "nbformat": 4,
 "nbformat_minor": 5
}
